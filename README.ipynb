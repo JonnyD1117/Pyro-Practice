{
 "metadata": {
  "language_info": {
   "codemirror_mode": {
    "name": "ipython",
    "version": 3
   },
   "file_extension": ".py",
   "mimetype": "text/x-python",
   "name": "python",
   "nbconvert_exporter": "python",
   "pygments_lexer": "ipython3",
   "version": 3
  },
  "orig_nbformat": 2
 },
 "nbformat": 4,
 "nbformat_minor": 2,
 "cells": [
  {
   "cell_type": "markdown",
   "metadata": {},
   "source": [
    "# Pyro-Practice\n",
    "\n",
    "\n",
    "This repo is dedicated to learning Uber AIs Probabilistic Programming Language Pyro. \n",
    "\n",
    "Pyro is a PyTorch based framework which allows for Deep Probablistic Neural Networks and solving problems using such tools as Stochastic Variational Inference\n",
    "\n",
    "\n",
    "$$ y = m*x + b $$ "
   ]
  }
 ]
}
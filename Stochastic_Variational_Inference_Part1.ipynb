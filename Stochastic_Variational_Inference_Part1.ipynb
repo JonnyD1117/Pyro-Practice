{
 "metadata": {
  "language_info": {
   "codemirror_mode": {
    "name": "ipython",
    "version": 3
   },
   "file_extension": ".py",
   "mimetype": "text/x-python",
   "name": "python",
   "nbconvert_exporter": "python",
   "pygments_lexer": "ipython3",
   "version": 3
  },
  "orig_nbformat": 2
 },
 "nbformat": 4,
 "nbformat_minor": 2,
 "cells": [
  {
   "cell_type": "markdown",
   "metadata": {},
   "source": [
    "sample# SVI Part 1: An Introduction to Stochastic Variational Inference in Pyro\n",
    "\n",
    "Pyro has been designed with particular attention paid to supporting stochastic variation inference as a general pupose inference algorithm. Let's see how we go about doing variotional inference in Pyro. \n",
    "\n",
    "# Setup\n",
    "\n",
    "We're goint ot assume we've already defined our model in Pyro (for model details on how this is done... see previous work)n As a quick reminder, the model is given as a stochastic function `model(*args, *kwarg)`, which, in general case takes arguments. The different peices of `model()` are encoded via the mapping: \n",
    "\n",
    "1) Observations <--> `pyro.sample` with the `obs` arguments\n",
    "2) latent random variables <--> `pyro.sample`\n",
    "3) parameters <--> `pyro.param` \n",
    "\n",
    "Now let's establish some notation. The model has observation **x** and latent random variables **z** as well as parameters **theta**. It has a joint probability density of the form... \n",
    "\n",
    "P_theta(x,z) = P_theta(x|z)*P_theta(z)\n",
    "\n",
    "We assume that the various probaility distributions p_i that make up P_theta(x,z) have the following properties: \n",
    "\n",
    "1) we can sample from each p_i \n",
    "2) we can compute pointwise log pdf p_i \n",
    "3) p_i is differnetiable w.r.t. the parameters theta\n",
    "\n",
    "# Model Learning \n",
    "\n",
    "In this context our criterion for learning a good model will be maximizing the lgo evidence, i.e want to find the value of **theta** given by \n",
    "\n",
    "theta_max = argmax_theat (log*p_theta(x))\n",
    "\n",
    "where the log evidence log*p_theta(x) is given by \n"
   ]
  }
 ]
}